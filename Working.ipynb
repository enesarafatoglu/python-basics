{
 "cells": [
  {
   "cell_type": "markdown",
   "id": "4b872dde-31cd-4148-bf4e-8267b99b028b",
   "metadata": {},
   "source": [
    "1- Bir listeyi düzleştiren (flatten) fonksiyon yazın. Elemanları birden çok katmanlı listelerden ([[3],2] gibi) oluşabileceği gibi, non-scalar verilerden de oluşabilir. Örnek olarak:\r\n",
    "\r\n",
    "input: [[1,'a',['cat'],2],[[[3]],'dog'],4,5]\r\n",
    "\r\n",
    "output: [1,'a','cat',2,3,'dog',4,5]"
   ]
  },
  {
   "cell_type": "code",
   "execution_count": 2,
   "id": "469d286a-7950-4fac-9e88-1c4d11373f82",
   "metadata": {},
   "outputs": [],
   "source": [
    "def flatten(input_list):\n",
    "    output_list = []\n",
    "    for element in input_list:\n",
    "        if isinstance(element, list):\n",
    "            output_list.extend(flatten(element))\n",
    "        else:\n",
    "            output_list.append(element)\n",
    "    return output_list"
   ]
  },
  {
   "cell_type": "code",
   "execution_count": 3,
   "id": "1d22458d-1dde-43d1-828e-945bda034a72",
   "metadata": {},
   "outputs": [],
   "source": [
    "input_list = [[1,'a',['cat'],2],[[[3]],'dog'],4,5]"
   ]
  },
  {
   "cell_type": "code",
   "execution_count": 4,
   "id": "8fcda592-617e-440b-8fa3-3ad11a35d615",
   "metadata": {},
   "outputs": [
    {
     "name": "stdout",
     "output_type": "stream",
     "text": [
      "[1, 'a', 'cat', 2, 3, 'dog', 4, 5]\n"
     ]
    }
   ],
   "source": [
    "output_list = flatten(input_list)\n",
    "print(output_list)"
   ]
  },
  {
   "cell_type": "code",
   "execution_count": null,
   "id": "8149312a-f2ae-4329-b61f-beeb1db3fb41",
   "metadata": {},
   "outputs": [],
   "source": []
  },
  {
   "cell_type": "markdown",
   "id": "da0417b1-985d-4ca3-b162-f82c3e0b4ace",
   "metadata": {},
   "source": [
    "2- Verilen listenin içindeki elemanları tersine döndüren bir fonksiyon yazın. Eğer listenin içindeki elemanlar da liste içeriyorsa onların elemanlarını da tersine döndürün. Örnek olarak:\r\n",
    "\r\n",
    "input: [[1, 2], [3, 4], [5, 6, 7]]\r\n",
    "\r\n",
    "output: [[[7, 6, 5], [4, 3], [2, 1]]"
   ]
  },
  {
   "cell_type": "code",
   "execution_count": 6,
   "id": "ba624a4a-366e-4cbc-8d2e-050d401e3d26",
   "metadata": {},
   "outputs": [],
   "source": [
    "def reverse_elements(input_list):\n",
    "    reversed_list = []\n",
    "    for element in reversed(input_list):\n",
    "        if isinstance(element, list):\n",
    "            reversed_list.append(reverse_elements(element))\n",
    "        else:\n",
    "            reversed_list.append(element)\n",
    "    return reversed_list"
   ]
  },
  {
   "cell_type": "code",
   "execution_count": 7,
   "id": "718de5b2-8de7-473a-be58-f2f0672cd39a",
   "metadata": {},
   "outputs": [],
   "source": [
    "input_list = [[1, 2], [3, 4], [5, 6, 7]]"
   ]
  },
  {
   "cell_type": "code",
   "execution_count": 8,
   "id": "92a12d26-e981-479a-bc8f-f7b65fc48635",
   "metadata": {},
   "outputs": [
    {
     "name": "stdout",
     "output_type": "stream",
     "text": [
      "[[7, 6, 5], [4, 3], [2, 1]]\n"
     ]
    }
   ],
   "source": [
    "reversed_list = reverse_elements(input_list)\n",
    "print(reversed_list)"
   ]
  },
  {
   "cell_type": "code",
   "execution_count": null,
   "id": "408d81cf-58f0-46c9-abd4-7100f6ece906",
   "metadata": {},
   "outputs": [],
   "source": []
  }
 ],
 "metadata": {
  "kernelspec": {
   "display_name": "Python 3 (ipykernel)",
   "language": "python",
   "name": "python3"
  },
  "language_info": {
   "codemirror_mode": {
    "name": "ipython",
    "version": 3
   },
   "file_extension": ".py",
   "mimetype": "text/x-python",
   "name": "python",
   "nbconvert_exporter": "python",
   "pygments_lexer": "ipython3",
   "version": "3.11.7"
  }
 },
 "nbformat": 4,
 "nbformat_minor": 5
}
